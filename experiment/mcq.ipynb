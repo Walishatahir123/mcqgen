{
 "cells": [
  {
   "cell_type": "code",
   "execution_count": 1,
   "id": "326d05cf",
   "metadata": {},
   "outputs": [],
   "source": [
    "import os\n",
    "import json\n",
    "import pandas as pd\n",
    "import traceback\n"
   ]
  },
  {
   "cell_type": "code",
   "execution_count": 2,
   "id": "3a1f9bd1",
   "metadata": {},
   "outputs": [],
   "source": [
    "from langchain_openai import ChatOpenAI\n"
   ]
  },
  {
   "cell_type": "code",
   "execution_count": 6,
   "id": "9081b954",
   "metadata": {},
   "outputs": [],
   "source": [
    "import os\n",
    "key=os.getenv('OPENAI_API_KEY')"
   ]
  },
  {
   "cell_type": "code",
   "execution_count": 7,
   "id": "8f506532",
   "metadata": {},
   "outputs": [
    {
     "data": {
      "text/plain": [
       "True"
      ]
     },
     "execution_count": 7,
     "metadata": {},
     "output_type": "execute_result"
    }
   ],
   "source": [
    "from dotenv import load_dotenv\n",
    "load_dotenv()\n",
    "\n"
   ]
  },
  {
   "cell_type": "code",
   "execution_count": null,
   "id": "48fdd98e",
   "metadata": {},
   "outputs": [],
   "source": []
  },
  {
   "cell_type": "code",
   "execution_count": 12,
   "id": "38112405",
   "metadata": {},
   "outputs": [],
   "source": [
    "llm = ChatOpenAI(\n",
    "    openai_api_key=OPEN_API_KEY,  # ✅ correct argument name\n",
    "    model=\"gpt-4o-mini\",\n",
    "    temperature=0.5\n",
    ")"
   ]
  },
  {
   "cell_type": "code",
   "execution_count": 13,
   "id": "14e5d701",
   "metadata": {},
   "outputs": [
    {
     "data": {
      "text/plain": [
       "ChatOpenAI(client=<openai.resources.chat.completions.completions.Completions object at 0x000001AB8485BA10>, async_client=<openai.resources.chat.completions.completions.AsyncCompletions object at 0x000001AB85D90590>, root_client=<openai.OpenAI object at 0x000001AB85A382D0>, root_async_client=<openai.AsyncOpenAI object at 0x000001AB85D902F0>, model_name='gpt-4o-mini', temperature=0.5, model_kwargs={}, openai_api_key=SecretStr('**********'))"
      ]
     },
     "execution_count": 13,
     "metadata": {},
     "output_type": "execute_result"
    }
   ],
   "source": [
    "llm"
   ]
  },
  {
   "cell_type": "code",
   "execution_count": 14,
   "id": "b38287f8",
   "metadata": {},
   "outputs": [],
   "source": [
    "from langchain_openai import OpenAI\n",
    "from langchain.prompts import PromptTemplate\n",
    "from langchain.chains import LLMChain, SequentialChain\n",
    "from langchain.callbacks import get_openai_callback\n",
    "import PyPDF2\n"
   ]
  },
  {
   "cell_type": "code",
   "execution_count": 15,
   "id": "1d4837a7",
   "metadata": {},
   "outputs": [],
   "source": [
    "TEMPLATE=\"\"\"\n",
    "Text:{text}\n",
    "\n",
    "you are an expert MCqs maker, given the above text. It is your job to create a quiz of {numbers},\n",
    " multiple quiz-wise questions for {subject}, students in {tone} tone. In curly brackets,\n",
    "   make sure the questions are not repeated and check all the questions to be confirming the text as well.\n",
    "     Make sure to format your response like response.json below and use it as a guide. Make sure to make dash {numbers} of MCqs\n",
    "     \n",
    "# response.json.\n",
    "{response_json}\"\"\""
   ]
  },
  {
   "cell_type": "code",
   "execution_count": 16,
   "id": "cdf50b30",
   "metadata": {},
   "outputs": [],
   "source": [
    "quiz_generation_prompt=PromptTemplate(\n",
    "    input_variable=['text','number','subject','tone','response.json'],\n",
    "    template=TEMPLATE\n",
    ")"
   ]
  },
  {
   "cell_type": "code",
   "execution_count": 17,
   "id": "18295575",
   "metadata": {},
   "outputs": [],
   "source": [
    "RESPONSE_JSON={\n",
    "    \"1\":{\n",
    "        'mcq':'multiple choice question',\n",
    "        'option': {\n",
    "            'a':'choice here',\n",
    "            'b' :'choice here',\n",
    "            'c':'choice here',\n",
    "            'd':  'choice here'            \n",
    "    },\n",
    "    'correct':'correct answer',\n",
    "    },\n",
    "   \"2\":{\n",
    "        'mcq':'multiple choice question',\n",
    "        'option': {\n",
    "            'a':'choice here',\n",
    "            'b' :'choice here',\n",
    "            'c':'choice here',\n",
    "            'd':  'choice here'            \n",
    "    },\n",
    "    'correct':'correct answer'\n",
    "    },\n",
    "\"3\":{\n",
    "        'mcq':'multiple choice question',\n",
    "        'option': {\n",
    "            'a':'choice here',\n",
    "            'b' :'choice here',\n",
    "            'c':'choice here',\n",
    "            'd':  'choice here'            \n",
    "    },\n",
    "    'correct':'correct answer',\n",
    "    },\n",
    "    \"4\":{\n",
    "        'mcq':'multiple choice question',\n",
    "        'option': {\n",
    "            'a':'choice here',\n",
    "            'b' :'choice here',\n",
    "            'c':'choice here',\n",
    "            'd':  'choice here'            \n",
    "    },\n",
    "    'correct':'correct answer',\n",
    "    },\n",
    "\n",
    "}\n",
    "\n",
    "\n"
   ]
  },
  {
   "cell_type": "code",
   "execution_count": 18,
   "id": "a1fb7cd7",
   "metadata": {},
   "outputs": [
    {
     "name": "stderr",
     "output_type": "stream",
     "text": [
      "C:\\Users\\user\\AppData\\Local\\Temp\\ipykernel_5216\\862413768.py:2: LangChainDeprecationWarning: The class `LLMChain` was deprecated in LangChain 0.1.17 and will be removed in 1.0. Use :meth:`~RunnableSequence, e.g., `prompt | llm`` instead.\n",
      "  quiz_chain=LLMChain(llm=llm,\n"
     ]
    }
   ],
   "source": [
    "# chain\n",
    "quiz_chain=LLMChain(llm=llm,\n",
    "                    prompt=quiz_generation_prompt,\n",
    "                    output_key='quiz',verbose=True)"
   ]
  },
  {
   "cell_type": "code",
   "execution_count": 19,
   "id": "7bdf9d16",
   "metadata": {},
   "outputs": [],
   "source": [
    "TEMPLATE2=\"\"\"\n",
    "You are an expert teacher .given a multiple choice quiz for {subject} students.\n",
    "You need to evalute the complexity of the question and give a complete analysis of the quiz .only use 50 words for complexity \n",
    "if the quiz is not per with the congitive and analytical abilities of the student.\n",
    "Update the quiz questions which needs to be changed and change the tone such that is perfectly fits the student level.\n",
    "Check the quiz answer realted to the content .\n",
    "Quiz_MCQS\n",
    "{quiz}\n",
    "\n",
    "\"\"\""
   ]
  },
  {
   "cell_type": "code",
   "execution_count": 20,
   "id": "f8faa664",
   "metadata": {},
   "outputs": [],
   "source": [
    "quiz_generation_prompt=PromptTemplate(\n",
    "    input_variable=['subject','quiz'],\n",
    "    template=TEMPLATE2\n",
    ")"
   ]
  },
  {
   "cell_type": "code",
   "execution_count": 21,
   "id": "7c60afce",
   "metadata": {},
   "outputs": [],
   "source": [
    "# chain2\n",
    "review_chain=LLMChain(llm=llm,prompt=quiz_generation_prompt,\n",
    "                      output_key='review',\n",
    "                      verbose=True\n",
    "                      )"
   ]
  },
  {
   "cell_type": "code",
   "execution_count": 22,
   "id": "fb0a1396",
   "metadata": {},
   "outputs": [],
   "source": [
    "\n",
    "generate_chains = SequentialChain(\n",
    "    chains=[quiz_chain, review_chain], \n",
    "    input_variables=['text', 'numbers', 'subject', 'tone', 'response_json'],  # ✅ cleaned\n",
    "    output_variables=[\"quiz\", \"review\"],                                     # ✅ matches invoke\n",
    "    verbose=True\n",
    ")\n",
    "\n",
    "\n",
    "\n"
   ]
  },
  {
   "cell_type": "code",
   "execution_count": 23,
   "id": "3396d140",
   "metadata": {},
   "outputs": [],
   "source": [
    "file_path = r\"C:\\Users\\user\\mcqgen\\experiment\\data.txt\"  # raw string prevents \\ issues\n",
    "with open(file_path, 'r', encoding='utf-8') as file:     # encoding avoids Unicode errors\n",
    "    text = file.read()\n",
    "\n",
    " # preview first 200 characters\n"
   ]
  },
  {
   "cell_type": "code",
   "execution_count": 24,
   "id": "fdc23fc1",
   "metadata": {},
   "outputs": [
    {
     "name": "stdout",
     "output_type": "stream",
     "text": [
      "\n",
      "Artificial intelligence (AI) is technology that enables computers and machines to simulate human learning, comprehension, problem solving, decision making, creativity and autonomy.\n",
      "\n",
      "Applications and devices equipped with AI can see and identify objects. They can understand and respond to human language. They can learn from new information and experience. They can make detailed recommendations to users and experts. They can act independently, replacing the need for human intelligence or intervention (a classic example being a self-driving car).\n",
      "\n",
      "But in 2024, most AI researchers, practitioners and most AI-related headlines are focused on breakthroughs in generative AI (gen AI), a technology that can create original text, images, video and other content. To fully understand generative AI, it’s important to first understand the technologies on which generative AI tools are built: machine learning (ML) and deep learningDirectly underneath AI, we have machine learning, which involves creating models by training an algorithm to make predictions or decisions based on data. It encompasses a broad range of techniques that enable computers to learn from and make inferences based on data without being explicitly programmed for specific tasks.\n",
      "\n",
      "There are many types of machine learning techniques or algorithms, including linear regression, logistic regression, decision trees, random forest, support vector machines (SVMs), k-nearest neighbor (KNN), clustering and more. Each of these approaches is suited to different kinds of problems and data.\n",
      "\n",
      "But one of the most popular types of machine learning algorithm is called a neural network (or artificial neural network). Neural networks are modeled after the human brain's structure and function. A neural network consists of interconnected layers of nodes (analogous to neurons) that work together to process and analyze complex data. Neural networks are well suited to tasks that involve identifying complex patterns and relationships in large amounts of data.\n",
      "\n",
      "The simplest form of machine learning is called supervised learning, which involves the use of labeled data sets to train algorithms to classify data or predict outcomes accurately. In supervised learning, humans pair each training example with an output label. The goal is for the model to learn the mapping between inputs and outputs in the training data, so it can predict the labels of new, unseen data.\n",
      "\n",
      "\n",
      "\n"
     ]
    }
   ],
   "source": [
    "print(text)"
   ]
  },
  {
   "cell_type": "code",
   "execution_count": 25,
   "id": "1c7959a9",
   "metadata": {},
   "outputs": [],
   "source": [
    "#convert python dict into json formatted\n",
    "quiz=json.dumps(RESPONSE_JSON)"
   ]
  },
  {
   "cell_type": "code",
   "execution_count": 26,
   "id": "6a298f1c",
   "metadata": {},
   "outputs": [
    {
     "data": {
      "text/plain": [
       "'{\"1\": {\"mcq\": \"multiple choice question\", \"option\": {\"a\": \"choice here\", \"b\": \"choice here\", \"c\": \"choice here\", \"d\": \"choice here\"}, \"correct\": \"correct answer\"}, \"2\": {\"mcq\": \"multiple choice question\", \"option\": {\"a\": \"choice here\", \"b\": \"choice here\", \"c\": \"choice here\", \"d\": \"choice here\"}, \"correct\": \"correct answer\"}, \"3\": {\"mcq\": \"multiple choice question\", \"option\": {\"a\": \"choice here\", \"b\": \"choice here\", \"c\": \"choice here\", \"d\": \"choice here\"}, \"correct\": \"correct answer\"}, \"4\": {\"mcq\": \"multiple choice question\", \"option\": {\"a\": \"choice here\", \"b\": \"choice here\", \"c\": \"choice here\", \"d\": \"choice here\"}, \"correct\": \"correct answer\"}}'"
      ]
     },
     "execution_count": 26,
     "metadata": {},
     "output_type": "execute_result"
    }
   ],
   "source": [
    "quiz"
   ]
  },
  {
   "cell_type": "code",
   "execution_count": 27,
   "id": "c5acb012",
   "metadata": {},
   "outputs": [],
   "source": [
    "# Define chain inputs\n",
    "numbers = 5                # how many MCQs you want (use singular, not numbers)\n",
    "subject = \"Artifical Intelligence\"        # or any subject you need\n",
    "tone = \"student-friendly\"  # style of the quiz\n",
    "RESPONSE_JSON = {\n",
    "    \"quiz\": [],\n",
    "    \"review\": \"\"\n",
    "}\n"
   ]
  },
  {
   "cell_type": "code",
   "execution_count": 28,
   "id": "62acf84e",
   "metadata": {},
   "outputs": [
    {
     "name": "stdout",
     "output_type": "stream",
     "text": [
      "\n",
      "\n",
      "\u001b[1m> Entering new SequentialChain chain...\u001b[0m\n",
      "\n",
      "\n",
      "\u001b[1m> Entering new LLMChain chain...\u001b[0m\n",
      "Prompt after formatting:\n",
      "\u001b[32;1m\u001b[1;3m\n",
      "Text:\n",
      "Artificial intelligence (AI) is technology that enables computers and machines to simulate human learning, comprehension, problem solving, decision making, creativity and autonomy.\n",
      "\n",
      "Applications and devices equipped with AI can see and identify objects. They can understand and respond to human language. They can learn from new information and experience. They can make detailed recommendations to users and experts. They can act independently, replacing the need for human intelligence or intervention (a classic example being a self-driving car).\n",
      "\n",
      "But in 2024, most AI researchers, practitioners and most AI-related headlines are focused on breakthroughs in generative AI (gen AI), a technology that can create original text, images, video and other content. To fully understand generative AI, it’s important to first understand the technologies on which generative AI tools are built: machine learning (ML) and deep learningDirectly underneath AI, we have machine learning, which involves creating models by training an algorithm to make predictions or decisions based on data. It encompasses a broad range of techniques that enable computers to learn from and make inferences based on data without being explicitly programmed for specific tasks.\n",
      "\n",
      "There are many types of machine learning techniques or algorithms, including linear regression, logistic regression, decision trees, random forest, support vector machines (SVMs), k-nearest neighbor (KNN), clustering and more. Each of these approaches is suited to different kinds of problems and data.\n",
      "\n",
      "But one of the most popular types of machine learning algorithm is called a neural network (or artificial neural network). Neural networks are modeled after the human brain's structure and function. A neural network consists of interconnected layers of nodes (analogous to neurons) that work together to process and analyze complex data. Neural networks are well suited to tasks that involve identifying complex patterns and relationships in large amounts of data.\n",
      "\n",
      "The simplest form of machine learning is called supervised learning, which involves the use of labeled data sets to train algorithms to classify data or predict outcomes accurately. In supervised learning, humans pair each training example with an output label. The goal is for the model to learn the mapping between inputs and outputs in the training data, so it can predict the labels of new, unseen data.\n",
      "\n",
      "\n",
      "\n",
      "\n",
      "you are an expert MCqs maker, given the above text. It is your job to create a quiz of 5,\n",
      " multiple quiz-wise questions for Artifical Intelligence, students in student-friendly tone. In curly brackets,\n",
      "   make sure the questions are not repeated and check all the questions to be confirming the text as well.\n",
      "     Make sure to format your response like response.json below and use it as a guide. Make sure to make dash 5 of MCqs\n",
      "\n",
      "# response.json.\n",
      "{\"quiz\": [], \"review\": \"\"}\u001b[0m\n",
      "\n",
      "\u001b[1m> Finished chain.\u001b[0m\n",
      "\n",
      "\n",
      "\u001b[1m> Entering new LLMChain chain...\u001b[0m\n",
      "Prompt after formatting:\n",
      "\u001b[32;1m\u001b[1;3m\n",
      "You are an expert teacher .given a multiple choice quiz for Artifical Intelligence students.\n",
      "You need to evalute the complexity of the question and give a complete analysis of the quiz .only use 50 words for complexity \n",
      "if the quiz is not per with the congitive and analytical abilities of the student.\n",
      "Update the quiz questions which needs to be changed and change the tone such that is perfectly fits the student level.\n",
      "Check the quiz answer realted to the content .\n",
      "Quiz_MCQS\n",
      "```json\n",
      "{\n",
      "  \"quiz\": [\n",
      "    {\n",
      "      \"question\": \"What does artificial intelligence (AI) enable computers and machines to do?\",\n",
      "      \"options\": [\n",
      "        \"A) Simulate human emotions\",\n",
      "        \"B) Simulate human learning and decision making\",\n",
      "        \"C) Replace all human jobs\",\n",
      "        \"D) Only perform mathematical calculations\"\n",
      "      ],\n",
      "      \"answer\": \"B\"\n",
      "    },\n",
      "    {\n",
      "      \"question\": \"Which technology is primarily focused on creating original content like text and images?\",\n",
      "      \"options\": [\n",
      "        \"A) Machine Learning\",\n",
      "        \"B) Deep Learning\",\n",
      "        \"C) Generative AI\",\n",
      "        \"D) Supervised Learning\"\n",
      "      ],\n",
      "      \"answer\": \"C\"\n",
      "    },\n",
      "    {\n",
      "      \"question\": \"What is the simplest form of machine learning that uses labeled data sets?\",\n",
      "      \"options\": [\n",
      "        \"A) Unsupervised Learning\",\n",
      "        \"B) Reinforcement Learning\",\n",
      "        \"C) Supervised Learning\",\n",
      "        \"D) Generative Learning\"\n",
      "      ],\n",
      "      \"answer\": \"C\"\n",
      "    },\n",
      "    {\n",
      "      \"question\": \"What type of machine learning algorithm is modeled after the human brain?\",\n",
      "      \"options\": [\n",
      "        \"A) Decision Trees\",\n",
      "        \"B) Neural Networks\",\n",
      "        \"C) Random Forests\",\n",
      "        \"D) Support Vector Machines\"\n",
      "      ],\n",
      "      \"answer\": \"B\"\n",
      "    },\n",
      "    {\n",
      "      \"question\": \"What is the primary goal of machine learning algorithms in supervised learning?\",\n",
      "      \"options\": [\n",
      "        \"A) To replace human intelligence\",\n",
      "        \"B) To learn the mapping between inputs and outputs\",\n",
      "        \"C) To generate random data\",\n",
      "        \"D) To analyze data without labels\"\n",
      "      ],\n",
      "      \"answer\": \"B\"\n",
      "    }\n",
      "  ],\n",
      "  \"review\": \"\"\n",
      "}\n",
      "```\n",
      "\n",
      "\u001b[0m\n",
      "\n",
      "\u001b[1m> Finished chain.\u001b[0m\n",
      "\n",
      "\u001b[1m> Finished chain.\u001b[0m\n"
     ]
    }
   ],
   "source": [
    "with get_openai_callback() as cb:\n",
    "    response = generate_chains.invoke(\n",
    "        {\n",
    "            \"text\": text,             # ✅ matches chain input\n",
    "            \"numbers\": numbers,                  # ✅ singular, not \"numbers\"\n",
    "            \"subject\": subject,\n",
    "            \"tone\": tone,\n",
    "            \"response_json\": json.dumps(RESPONSE_JSON),\n",
    "           \n",
    "\n",
    "        }\n",
    "    )\n",
    "\n"
   ]
  },
  {
   "cell_type": "code",
   "execution_count": 29,
   "id": "fa44b1da",
   "metadata": {},
   "outputs": [
    {
     "name": "stdout",
     "output_type": "stream",
     "text": [
      "Quiz: ```json\n",
      "{\n",
      "  \"quiz\": [\n",
      "    {\n",
      "      \"question\": \"What does artificial intelligence (AI) enable computers and machines to do?\",\n",
      "      \"options\": [\n",
      "        \"A) Simulate human emotions\",\n",
      "        \"B) Simulate human learning and decision making\",\n",
      "        \"C) Replace all human jobs\",\n",
      "        \"D) Only perform mathematical calculations\"\n",
      "      ],\n",
      "      \"answer\": \"B\"\n",
      "    },\n",
      "    {\n",
      "      \"question\": \"Which technology is primarily focused on creating original content like text and images?\",\n",
      "      \"options\": [\n",
      "        \"A) Machine Learning\",\n",
      "        \"B) Deep Learning\",\n",
      "        \"C) Generative AI\",\n",
      "        \"D) Supervised Learning\"\n",
      "      ],\n",
      "      \"answer\": \"C\"\n",
      "    },\n",
      "    {\n",
      "      \"question\": \"What is the simplest form of machine learning that uses labeled data sets?\",\n",
      "      \"options\": [\n",
      "        \"A) Unsupervised Learning\",\n",
      "        \"B) Reinforcement Learning\",\n",
      "        \"C) Supervised Learning\",\n",
      "        \"D) Generative Learning\"\n",
      "      ],\n",
      "      \"answer\": \"C\"\n",
      "    },\n",
      "    {\n",
      "      \"question\": \"What type of machine learning algorithm is modeled after the human brain?\",\n",
      "      \"options\": [\n",
      "        \"A) Decision Trees\",\n",
      "        \"B) Neural Networks\",\n",
      "        \"C) Random Forests\",\n",
      "        \"D) Support Vector Machines\"\n",
      "      ],\n",
      "      \"answer\": \"B\"\n",
      "    },\n",
      "    {\n",
      "      \"question\": \"What is the primary goal of machine learning algorithms in supervised learning?\",\n",
      "      \"options\": [\n",
      "        \"A) To replace human intelligence\",\n",
      "        \"B) To learn the mapping between inputs and outputs\",\n",
      "        \"C) To generate random data\",\n",
      "        \"D) To analyze data without labels\"\n",
      "      ],\n",
      "      \"answer\": \"B\"\n",
      "    }\n",
      "  ],\n",
      "  \"review\": \"\"\n",
      "}\n",
      "```\n",
      "Review: **Complexity Analysis**: The quiz questions are generally appropriate for students with a foundational understanding of artificial intelligence concepts. However, some questions may require deeper analytical skills or context not provided in the questions themselves, which could be challenging for beginners.\n",
      "\n",
      "**Updated Quiz Questions**:\n",
      "\n",
      "```json\n",
      "{\n",
      "  \"quiz\": [\n",
      "    {\n",
      "      \"question\": \"What is one of the main capabilities of artificial intelligence (AI)?\",\n",
      "      \"options\": [\n",
      "        \"A) Mimic human feelings\",\n",
      "        \"B) Learn from data and make decisions\",\n",
      "        \"C) Replace all human jobs\",\n",
      "        \"D) Only do math problems\"\n",
      "      ],\n",
      "      \"answer\": \"B\"\n",
      "    },\n",
      "    {\n",
      "      \"question\": \"Which type of AI focuses on creating new content like stories and pictures?\",\n",
      "      \"options\": [\n",
      "        \"A) Machine Learning\",\n",
      "        \"B) Deep Learning\",\n",
      "        \"C) Generative AI\",\n",
      "        \"D) Supervised Learning\"\n",
      "      ],\n",
      "      \"answer\": \"C\"\n",
      "    },\n",
      "    {\n",
      "      \"question\": \"What is the easiest type of machine learning that uses labeled data?\",\n",
      "      \"options\": [\n",
      "        \"A) Unsupervised Learning\",\n",
      "        \"B) Reinforcement Learning\",\n",
      "        \"C) Supervised Learning\",\n",
      "        \"D) Generative Learning\"\n",
      "      ],\n",
      "      \"answer\": \"C\"\n",
      "    },\n",
      "    {\n",
      "      \"question\": \"Which machine learning model is inspired by how the human brain works?\",\n",
      "      \"options\": [\n",
      "        \"A) Decision Trees\",\n",
      "        \"B) Neural Networks\",\n",
      "        \"C) Random Forests\",\n",
      "        \"D) Support Vector Machines\"\n",
      "      ],\n",
      "      \"answer\": \"B\"\n",
      "    },\n",
      "    {\n",
      "      \"question\": \"In supervised learning, what do the algorithms primarily aim to achieve?\",\n",
      "      \"options\": [\n",
      "        \"A) Replace human intelligence\",\n",
      "        \"B) Understand the relationship between inputs and outputs\",\n",
      "        \"C) Create random data\",\n",
      "        \"D) Analyze data without labels\"\n",
      "      ],\n",
      "      \"answer\": \"B\"\n",
      "    }\n",
      "  ],\n",
      "  \"review\": \"\"\n",
      "}\n",
      "```\n",
      "\n",
      "**Review**: The updated questions maintain clarity and ensure that they are accessible to students at an introductory level in artificial intelligence while still being challenging enough to provoke thought and understanding of the concepts. All answers remain accurate and relevant to the content.\n",
      "Tokens used: 1879\n",
      "total cost: 0.0006620999999999999\n",
      "prompt Token: 1034\n"
     ]
    }
   ],
   "source": [
    "print(\"Quiz:\", response[\"quiz\"])\n",
    "\n",
    "print(\"Review:\", response[\"review\"])\n",
    "print(\"Tokens used:\", cb.total_tokens)\n",
    "print(\"total cost:\",cb.total_cost)\n",
    "print(\"prompt Token:\",cb.prompt_tokens)"
   ]
  },
  {
   "cell_type": "code",
   "execution_count": 41,
   "id": "4c2986f6",
   "metadata": {},
   "outputs": [
    {
     "data": {
      "text/plain": [
       "'```json\\n{\\n  \"quiz\": [\\n    {\\n      \"question\": \"What does artificial intelligence (AI) enable computers and machines to do?\",\\n      \"options\": [\\n        \"A) Simulate human emotions\",\\n        \"B) Simulate human learning and decision making\",\\n        \"C) Replace all human jobs\",\\n        \"D) Only perform mathematical calculations\"\\n      ],\\n      \"answer\": \"B\"\\n    },\\n    {\\n      \"question\": \"Which technology is primarily focused on creating original content like text and images?\",\\n      \"options\": [\\n        \"A) Machine Learning\",\\n        \"B) Deep Learning\",\\n        \"C) Generative AI\",\\n        \"D) Supervised Learning\"\\n      ],\\n      \"answer\": \"C\"\\n    },\\n    {\\n      \"question\": \"What is the simplest form of machine learning that uses labeled data sets?\",\\n      \"options\": [\\n        \"A) Unsupervised Learning\",\\n        \"B) Reinforcement Learning\",\\n        \"C) Supervised Learning\",\\n        \"D) Generative Learning\"\\n      ],\\n      \"answer\": \"C\"\\n    },\\n    {\\n      \"question\": \"What type of machine learning algorithm is modeled after the human brain?\",\\n      \"options\": [\\n        \"A) Decision Trees\",\\n        \"B) Neural Networks\",\\n        \"C) Random Forests\",\\n        \"D) Support Vector Machines\"\\n      ],\\n      \"answer\": \"B\"\\n    },\\n    {\\n      \"question\": \"What is the primary goal of machine learning algorithms in supervised learning?\",\\n      \"options\": [\\n        \"A) To replace human intelligence\",\\n        \"B) To learn the mapping between inputs and outputs\",\\n        \"C) To generate random data\",\\n        \"D) To analyze data without labels\"\\n      ],\\n      \"answer\": \"B\"\\n    }\\n  ],\\n  \"review\": \"\"\\n}\\n```'"
      ]
     },
     "execution_count": 41,
     "metadata": {},
     "output_type": "execute_result"
    }
   ],
   "source": [
    "quiz\n"
   ]
  },
  {
   "cell_type": "code",
   "execution_count": 30,
   "id": "ab6f9d3c",
   "metadata": {},
   "outputs": [],
   "source": [
    "quiz = json.dumps(RESPONSE_JSON)\n"
   ]
  },
  {
   "cell_type": "code",
   "execution_count": 42,
   "id": "aac500b5",
   "metadata": {},
   "outputs": [],
   "source": [
    "quiz=response[\"quiz\"]"
   ]
  },
  {
   "cell_type": "code",
   "execution_count": 48,
   "id": "08ac2ab8",
   "metadata": {},
   "outputs": [
    {
     "data": {
      "text/plain": [
       "[{'MCQ': 'What does artificial intelligence (AI) enable computers and machines to do?',\n",
       "  'Choices': 'A) Simulate human emotions | B) Simulate human learning and decision making | C) Replace all human jobs | D) Only perform mathematical calculations',\n",
       "  'Correct': 'B'},\n",
       " {'MCQ': 'Which technology is primarily focused on creating original content like text and images?',\n",
       "  'Choices': 'A) Machine Learning | B) Deep Learning | C) Generative AI | D) Supervised Learning',\n",
       "  'Correct': 'C'},\n",
       " {'MCQ': 'What is the simplest form of machine learning that uses labeled data sets?',\n",
       "  'Choices': 'A) Unsupervised Learning | B) Reinforcement Learning | C) Supervised Learning | D) Generative Learning',\n",
       "  'Correct': 'C'},\n",
       " {'MCQ': 'What type of machine learning algorithm is modeled after the human brain?',\n",
       "  'Choices': 'A) Decision Trees | B) Neural Networks | C) Random Forests | D) Support Vector Machines',\n",
       "  'Correct': 'B'},\n",
       " {'MCQ': 'What is the primary goal of machine learning algorithms in supervised learning?',\n",
       "  'Choices': 'A) To replace human intelligence | B) To learn the mapping between inputs and outputs | C) To generate random data | D) To analyze data without labels',\n",
       "  'Correct': 'B'}]"
      ]
     },
     "execution_count": 48,
     "metadata": {},
     "output_type": "execute_result"
    }
   ],
   "source": [
    "import json\n",
    "import re\n",
    "\n",
    "# Remove any text before the first { and after the last }\n",
    "json_match = re.search(r\"\\{.*\\}\", quiz, re.DOTALL)\n",
    "if not json_match:\n",
    "    raise ValueError(\"No valid JSON found in the quiz output!\")\n",
    "\n",
    "clean_quiz = json_match.group(0)\n",
    "\n",
    "# Now parse\n",
    "quiz_data = json.loads(clean_quiz)\n",
    "\n",
    "# Build quiz table\n",
    "quiz_table_data = []\n",
    "for value in quiz_data.get(\"quiz\", []):\n",
    "    mcq = value.get(\"question\", \"No question provided\")\n",
    "    options = value.get(\"options\", [])\n",
    "    options_str = \" | \".join(options) if options else \"No options provided\"\n",
    "    correct = value.get(\"answer\", \"No answer provided\")\n",
    "    \n",
    "    quiz_table_data.append({\n",
    "        \"MCQ\": mcq,\n",
    "        \"Choices\": options_str,\n",
    "        \"Correct\": correct\n",
    "    })\n",
    "\n",
    "quiz_table_data\n",
    "\n"
   ]
  },
  {
   "cell_type": "code",
   "execution_count": 46,
   "id": "f7d19e8c",
   "metadata": {},
   "outputs": [
    {
     "ename": "ValueError",
     "evalue": "Invalid JSON in quiz data: Expecting value: line 1 column 1 (char 0)",
     "output_type": "error",
     "traceback": [
      "\u001b[31m---------------------------------------------------------------------------\u001b[39m",
      "\u001b[31mJSONDecodeError\u001b[39m                           Traceback (most recent call last)",
      "\u001b[36mCell\u001b[39m\u001b[36m \u001b[39m\u001b[32mIn[46]\u001b[39m\u001b[32m, line 9\u001b[39m\n\u001b[32m      8\u001b[39m \u001b[38;5;28;01mtry\u001b[39;00m:\n\u001b[32m----> \u001b[39m\u001b[32m9\u001b[39m     quiz_data = \u001b[43mjson\u001b[49m\u001b[43m.\u001b[49m\u001b[43mloads\u001b[49m\u001b[43m(\u001b[49m\u001b[43mquiz\u001b[49m\u001b[43m)\u001b[49m  \u001b[38;5;66;03m# Convert string → dict\u001b[39;00m\n\u001b[32m     10\u001b[39m \u001b[38;5;28;01mexcept\u001b[39;00m json.JSONDecodeError \u001b[38;5;28;01mas\u001b[39;00m e:\n",
      "\u001b[36mFile \u001b[39m\u001b[32m~\\anaconda3\\Lib\\json\\__init__.py:346\u001b[39m, in \u001b[36mloads\u001b[39m\u001b[34m(s, cls, object_hook, parse_float, parse_int, parse_constant, object_pairs_hook, **kw)\u001b[39m\n\u001b[32m    343\u001b[39m \u001b[38;5;28;01mif\u001b[39;00m (\u001b[38;5;28mcls\u001b[39m \u001b[38;5;129;01mis\u001b[39;00m \u001b[38;5;28;01mNone\u001b[39;00m \u001b[38;5;129;01mand\u001b[39;00m object_hook \u001b[38;5;129;01mis\u001b[39;00m \u001b[38;5;28;01mNone\u001b[39;00m \u001b[38;5;129;01mand\u001b[39;00m\n\u001b[32m    344\u001b[39m         parse_int \u001b[38;5;129;01mis\u001b[39;00m \u001b[38;5;28;01mNone\u001b[39;00m \u001b[38;5;129;01mand\u001b[39;00m parse_float \u001b[38;5;129;01mis\u001b[39;00m \u001b[38;5;28;01mNone\u001b[39;00m \u001b[38;5;129;01mand\u001b[39;00m\n\u001b[32m    345\u001b[39m         parse_constant \u001b[38;5;129;01mis\u001b[39;00m \u001b[38;5;28;01mNone\u001b[39;00m \u001b[38;5;129;01mand\u001b[39;00m object_pairs_hook \u001b[38;5;129;01mis\u001b[39;00m \u001b[38;5;28;01mNone\u001b[39;00m \u001b[38;5;129;01mand\u001b[39;00m \u001b[38;5;129;01mnot\u001b[39;00m kw):\n\u001b[32m--> \u001b[39m\u001b[32m346\u001b[39m     \u001b[38;5;28;01mreturn\u001b[39;00m \u001b[43m_default_decoder\u001b[49m\u001b[43m.\u001b[49m\u001b[43mdecode\u001b[49m\u001b[43m(\u001b[49m\u001b[43ms\u001b[49m\u001b[43m)\u001b[49m\n\u001b[32m    347\u001b[39m \u001b[38;5;28;01mif\u001b[39;00m \u001b[38;5;28mcls\u001b[39m \u001b[38;5;129;01mis\u001b[39;00m \u001b[38;5;28;01mNone\u001b[39;00m:\n",
      "\u001b[36mFile \u001b[39m\u001b[32m~\\anaconda3\\Lib\\json\\decoder.py:345\u001b[39m, in \u001b[36mJSONDecoder.decode\u001b[39m\u001b[34m(self, s, _w)\u001b[39m\n\u001b[32m    341\u001b[39m \u001b[38;5;250m\u001b[39m\u001b[33;03m\"\"\"Return the Python representation of ``s`` (a ``str`` instance\u001b[39;00m\n\u001b[32m    342\u001b[39m \u001b[33;03mcontaining a JSON document).\u001b[39;00m\n\u001b[32m    343\u001b[39m \n\u001b[32m    344\u001b[39m \u001b[33;03m\"\"\"\u001b[39;00m\n\u001b[32m--> \u001b[39m\u001b[32m345\u001b[39m obj, end = \u001b[38;5;28;43mself\u001b[39;49m\u001b[43m.\u001b[49m\u001b[43mraw_decode\u001b[49m\u001b[43m(\u001b[49m\u001b[43ms\u001b[49m\u001b[43m,\u001b[49m\u001b[43m \u001b[49m\u001b[43midx\u001b[49m\u001b[43m=\u001b[49m\u001b[43m_w\u001b[49m\u001b[43m(\u001b[49m\u001b[43ms\u001b[49m\u001b[43m,\u001b[49m\u001b[43m \u001b[49m\u001b[32;43m0\u001b[39;49m\u001b[43m)\u001b[49m\u001b[43m.\u001b[49m\u001b[43mend\u001b[49m\u001b[43m(\u001b[49m\u001b[43m)\u001b[49m\u001b[43m)\u001b[49m\n\u001b[32m    346\u001b[39m end = _w(s, end).end()\n",
      "\u001b[36mFile \u001b[39m\u001b[32m~\\anaconda3\\Lib\\json\\decoder.py:363\u001b[39m, in \u001b[36mJSONDecoder.raw_decode\u001b[39m\u001b[34m(self, s, idx)\u001b[39m\n\u001b[32m    362\u001b[39m \u001b[38;5;28;01mexcept\u001b[39;00m \u001b[38;5;167;01mStopIteration\u001b[39;00m \u001b[38;5;28;01mas\u001b[39;00m err:\n\u001b[32m--> \u001b[39m\u001b[32m363\u001b[39m     \u001b[38;5;28;01mraise\u001b[39;00m JSONDecodeError(\u001b[33m\"\u001b[39m\u001b[33mExpecting value\u001b[39m\u001b[33m\"\u001b[39m, s, err.value) \u001b[38;5;28;01mfrom\u001b[39;00m\u001b[38;5;250m \u001b[39m\u001b[38;5;28;01mNone\u001b[39;00m\n\u001b[32m    364\u001b[39m \u001b[38;5;28;01mreturn\u001b[39;00m obj, end\n",
      "\u001b[31mJSONDecodeError\u001b[39m: Expecting value: line 1 column 1 (char 0)",
      "\nDuring handling of the above exception, another exception occurred:\n",
      "\u001b[31mValueError\u001b[39m                                Traceback (most recent call last)",
      "\u001b[36mCell\u001b[39m\u001b[36m \u001b[39m\u001b[32mIn[46]\u001b[39m\u001b[32m, line 11\u001b[39m\n\u001b[32m      9\u001b[39m     quiz_data = json.loads(quiz)  \u001b[38;5;66;03m# Convert string → dict\u001b[39;00m\n\u001b[32m     10\u001b[39m \u001b[38;5;28;01mexcept\u001b[39;00m json.JSONDecodeError \u001b[38;5;28;01mas\u001b[39;00m e:\n\u001b[32m---> \u001b[39m\u001b[32m11\u001b[39m     \u001b[38;5;28;01mraise\u001b[39;00m \u001b[38;5;167;01mValueError\u001b[39;00m(\u001b[33mf\u001b[39m\u001b[33m\"\u001b[39m\u001b[33mInvalid JSON in quiz data: \u001b[39m\u001b[38;5;132;01m{\u001b[39;00me\u001b[38;5;132;01m}\u001b[39;00m\u001b[33m\"\u001b[39m)\n\u001b[32m     13\u001b[39m quiz_table_data = []\n\u001b[32m     15\u001b[39m \u001b[38;5;66;03m# Loop through each question safely\u001b[39;00m\n",
      "\u001b[31mValueError\u001b[39m: Invalid JSON in quiz data: Expecting value: line 1 column 1 (char 0)"
     ]
    }
   ],
   "source": [
    "import json\n",
    "\n",
    "# Check if quiz is not empty\n",
    "if not quiz or not quiz.strip():\n",
    "    raise ValueError(\"Quiz data is empty. Cannot parse JSON.\")\n",
    "\n",
    "# Try parsing JSON safely\n",
    "try:\n",
    "    quiz_data = json.loads(quiz)  # Convert string → dict\n",
    "except json.JSONDecodeError as e:\n",
    "    raise ValueError(f\"Invalid JSON in quiz data: {e}\")\n",
    "\n",
    "quiz_table_data = []\n",
    "\n",
    "# Loop through each question safely\n",
    "for value in quiz_data.get(\"quiz\", []):\n",
    "    mcq = value.get(\"question\", \"No question provided\")\n",
    "    options = value.get(\"options\", [])\n",
    "    options_str = \" | \".join(options) if options else \"No options provided\"\n",
    "    correct = value.get(\"answer\", \"No answer provided\")\n",
    "    \n",
    "    quiz_table_data.append({\n",
    "        \"MCQ\": mcq,\n",
    "        \"Choices\": options_str,\n",
    "        \"Correct\": correct\n",
    "    })\n",
    "\n",
    "quiz_table_data\n",
    "\n",
    "\n",
    "\n"
   ]
  },
  {
   "cell_type": "code",
   "execution_count": 44,
   "id": "d8c38df6",
   "metadata": {},
   "outputs": [
    {
     "name": "stdout",
     "output_type": "stream",
     "text": [
      "'```json\\n{\\n  \"quiz\": [\\n    {\\n      \"question\": \"What does artificial intelligence (AI) enable computers and machines to do?\",\\n      \"options\": [\\n        \"A) Simulate human emotions\",\\n        \"B) Simulate human learning and decision making\",\\n        \"C) Replace all human jobs\",\\n        \"D) Only perform mathematical calculations\"\\n      ],\\n      \"answer\": \"B\"\\n    },\\n    {\\n      \"question\": \"Which technology is primarily focused on creating original content like text and images?\",\\n      \"options\": [\\n        \"A) Machine Learning\",\\n        \"B) Deep Learning\",\\n        \"C) Generative AI\",\\n        \"D) Supervised Learning\"\\n      ],\\n      \"answer\": \"C\"\\n    },\\n    {\\n      \"question\": \"What is the simplest form of machine learning that uses labeled data sets?\",\\n      \"options\": [\\n        \"A) Unsupervised Learning\",\\n        \"B) Reinforcement Learning\",\\n        \"C) Supervised Learning\",\\n        \"D) Generative Learning\"\\n      ],\\n      \"answer\": \"C\"\\n    },\\n    {\\n      \"question\": \"What type of machine learning algorithm is modeled after the human brain?\",\\n      \"options\": [\\n        \"A) Decision Trees\",\\n        \"B) Neural Networks\",\\n        \"C) Random Forests\",\\n        \"D) Support Vector Machines\"\\n      ],\\n      \"answer\": \"B\"\\n    },\\n    {\\n      \"question\": \"What is the primary goal of machine learning algorithms in supervised learning?\",\\n      \"options\": [\\n        \"A) To replace human intelligence\",\\n        \"B) To learn the mapping between inputs and outputs\",\\n        \"C) To generate random data\",\\n        \"D) To analyze data without labels\"\\n      ],\\n      \"answer\": \"B\"\\n    }\\n  ],\\n  \"review\": \"\"\\n}\\n```'\n"
     ]
    }
   ],
   "source": [
    "print(repr(quiz))  # Shows exactly what's inside, even if it's empty\n"
   ]
  },
  {
   "cell_type": "code",
   "execution_count": 34,
   "id": "a4d1f08b",
   "metadata": {},
   "outputs": [
    {
     "data": {
      "text/plain": [
       "'```json\\n{\\n  \"quiz\": [\\n    {\\n      \"question\": \"What does artificial intelligence (AI) enable computers and machines to do?\",\\n      \"options\": [\\n        \"A) Simulate human emotions\",\\n        \"B) Simulate human learning and decision making\",\\n        \"C) Replace all human jobs\",\\n        \"D) Only perform mathematical calculations\"\\n      ],\\n      \"answer\": \"B\"\\n    },\\n    {\\n      \"question\": \"Which technology is primarily focused on creating original content like text and images?\",\\n      \"options\": [\\n        \"A) Machine Learning\",\\n        \"B) Deep Learning\",\\n        \"C) Generative AI\",\\n        \"D) Supervised Learning\"\\n      ],\\n      \"answer\": \"C\"\\n    },\\n    {\\n      \"question\": \"What is the simplest form of machine learning that uses labeled data sets?\",\\n      \"options\": [\\n        \"A) Unsupervised Learning\",\\n        \"B) Reinforcement Learning\",\\n        \"C) Supervised Learning\",\\n        \"D) Generative Learning\"\\n      ],\\n      \"answer\": \"C\"\\n    },\\n    {\\n      \"question\": \"What type of machine learning algorithm is modeled after the human brain?\",\\n      \"options\": [\\n        \"A) Decision Trees\",\\n        \"B) Neural Networks\",\\n        \"C) Random Forests\",\\n        \"D) Support Vector Machines\"\\n      ],\\n      \"answer\": \"B\"\\n    },\\n    {\\n      \"question\": \"What is the primary goal of machine learning algorithms in supervised learning?\",\\n      \"options\": [\\n        \"A) To replace human intelligence\",\\n        \"B) To learn the mapping between inputs and outputs\",\\n        \"C) To generate random data\",\\n        \"D) To analyze data without labels\"\\n      ],\\n      \"answer\": \"B\"\\n    }\\n  ],\\n  \"review\": \"\"\\n}\\n```'"
      ]
     },
     "execution_count": 34,
     "metadata": {},
     "output_type": "execute_result"
    }
   ],
   "source": [
    "quiz"
   ]
  },
  {
   "cell_type": "code",
   "execution_count": 35,
   "id": "85b9d36f",
   "metadata": {},
   "outputs": [
    {
     "name": "stdout",
     "output_type": "stream",
     "text": [
      "{'text': \"\\nArtificial intelligence (AI) is technology that enables computers and machines to simulate human learning, comprehension, problem solving, decision making, creativity and autonomy.\\n\\nApplications and devices equipped with AI can see and identify objects. They can understand and respond to human language. They can learn from new information and experience. They can make detailed recommendations to users and experts. They can act independently, replacing the need for human intelligence or intervention (a classic example being a self-driving car).\\n\\nBut in 2024, most AI researchers, practitioners and most AI-related headlines are focused on breakthroughs in generative AI (gen AI), a technology that can create original text, images, video and other content. To fully understand generative AI, it’s important to first understand the technologies on which generative AI tools are built: machine learning (ML) and deep learningDirectly underneath AI, we have machine learning, which involves creating models by training an algorithm to make predictions or decisions based on data. It encompasses a broad range of techniques that enable computers to learn from and make inferences based on data without being explicitly programmed for specific tasks.\\n\\nThere are many types of machine learning techniques or algorithms, including linear regression, logistic regression, decision trees, random forest, support vector machines (SVMs), k-nearest neighbor (KNN), clustering and more. Each of these approaches is suited to different kinds of problems and data.\\n\\nBut one of the most popular types of machine learning algorithm is called a neural network (or artificial neural network). Neural networks are modeled after the human brain's structure and function. A neural network consists of interconnected layers of nodes (analogous to neurons) that work together to process and analyze complex data. Neural networks are well suited to tasks that involve identifying complex patterns and relationships in large amounts of data.\\n\\nThe simplest form of machine learning is called supervised learning, which involves the use of labeled data sets to train algorithms to classify data or predict outcomes accurately. In supervised learning, humans pair each training example with an output label. The goal is for the model to learn the mapping between inputs and outputs in the training data, so it can predict the labels of new, unseen data.\\n\\n\\n\", 'numbers': 5, 'subject': 'Artifical Intelligence', 'tone': 'student-friendly', 'response_json': '{\"quiz\": [], \"review\": \"\"}', 'quiz': '```json\\n{\\n  \"quiz\": [\\n    {\\n      \"question\": \"What does artificial intelligence (AI) enable computers and machines to do?\",\\n      \"options\": [\\n        \"A) Simulate human emotions\",\\n        \"B) Simulate human learning and decision making\",\\n        \"C) Replace all human jobs\",\\n        \"D) Only perform mathematical calculations\"\\n      ],\\n      \"answer\": \"B\"\\n    },\\n    {\\n      \"question\": \"Which technology is primarily focused on creating original content like text and images?\",\\n      \"options\": [\\n        \"A) Machine Learning\",\\n        \"B) Deep Learning\",\\n        \"C) Generative AI\",\\n        \"D) Supervised Learning\"\\n      ],\\n      \"answer\": \"C\"\\n    },\\n    {\\n      \"question\": \"What is the simplest form of machine learning that uses labeled data sets?\",\\n      \"options\": [\\n        \"A) Unsupervised Learning\",\\n        \"B) Reinforcement Learning\",\\n        \"C) Supervised Learning\",\\n        \"D) Generative Learning\"\\n      ],\\n      \"answer\": \"C\"\\n    },\\n    {\\n      \"question\": \"What type of machine learning algorithm is modeled after the human brain?\",\\n      \"options\": [\\n        \"A) Decision Trees\",\\n        \"B) Neural Networks\",\\n        \"C) Random Forests\",\\n        \"D) Support Vector Machines\"\\n      ],\\n      \"answer\": \"B\"\\n    },\\n    {\\n      \"question\": \"What is the primary goal of machine learning algorithms in supervised learning?\",\\n      \"options\": [\\n        \"A) To replace human intelligence\",\\n        \"B) To learn the mapping between inputs and outputs\",\\n        \"C) To generate random data\",\\n        \"D) To analyze data without labels\"\\n      ],\\n      \"answer\": \"B\"\\n    }\\n  ],\\n  \"review\": \"\"\\n}\\n```', 'review': '**Complexity Analysis**: The quiz questions are generally appropriate for students with a foundational understanding of artificial intelligence concepts. However, some questions may require deeper analytical skills or context not provided in the questions themselves, which could be challenging for beginners.\\n\\n**Updated Quiz Questions**:\\n\\n```json\\n{\\n  \"quiz\": [\\n    {\\n      \"question\": \"What is one of the main capabilities of artificial intelligence (AI)?\",\\n      \"options\": [\\n        \"A) Mimic human feelings\",\\n        \"B) Learn from data and make decisions\",\\n        \"C) Replace all human jobs\",\\n        \"D) Only do math problems\"\\n      ],\\n      \"answer\": \"B\"\\n    },\\n    {\\n      \"question\": \"Which type of AI focuses on creating new content like stories and pictures?\",\\n      \"options\": [\\n        \"A) Machine Learning\",\\n        \"B) Deep Learning\",\\n        \"C) Generative AI\",\\n        \"D) Supervised Learning\"\\n      ],\\n      \"answer\": \"C\"\\n    },\\n    {\\n      \"question\": \"What is the easiest type of machine learning that uses labeled data?\",\\n      \"options\": [\\n        \"A) Unsupervised Learning\",\\n        \"B) Reinforcement Learning\",\\n        \"C) Supervised Learning\",\\n        \"D) Generative Learning\"\\n      ],\\n      \"answer\": \"C\"\\n    },\\n    {\\n      \"question\": \"Which machine learning model is inspired by how the human brain works?\",\\n      \"options\": [\\n        \"A) Decision Trees\",\\n        \"B) Neural Networks\",\\n        \"C) Random Forests\",\\n        \"D) Support Vector Machines\"\\n      ],\\n      \"answer\": \"B\"\\n    },\\n    {\\n      \"question\": \"In supervised learning, what do the algorithms primarily aim to achieve?\",\\n      \"options\": [\\n        \"A) Replace human intelligence\",\\n        \"B) Understand the relationship between inputs and outputs\",\\n        \"C) Create random data\",\\n        \"D) Analyze data without labels\"\\n      ],\\n      \"answer\": \"B\"\\n    }\\n  ],\\n  \"review\": \"\"\\n}\\n```\\n\\n**Review**: The updated questions maintain clarity and ensure that they are accessible to students at an introductory level in artificial intelligence while still being challenging enough to provoke thought and understanding of the concepts. All answers remain accurate and relevant to the content.'}\n"
     ]
    }
   ],
   "source": [
    "print(response)\n"
   ]
  },
  {
   "cell_type": "code",
   "execution_count": 36,
   "id": "15edb057",
   "metadata": {},
   "outputs": [
    {
     "ename": "NameError",
     "evalue": "name 'quiz_df' is not defined",
     "output_type": "error",
     "traceback": [
      "\u001b[31m---------------------------------------------------------------------------\u001b[39m",
      "\u001b[31mNameError\u001b[39m                                 Traceback (most recent call last)",
      "\u001b[36mCell\u001b[39m\u001b[36m \u001b[39m\u001b[32mIn[36]\u001b[39m\u001b[32m, line 1\u001b[39m\n\u001b[32m----> \u001b[39m\u001b[32m1\u001b[39m file = \u001b[43mquiz_df\u001b[49m.to_csv(\u001b[33m\"\u001b[39m\u001b[33martificial_intelligence.csv\u001b[39m\u001b[33m\"\u001b[39m, index=\u001b[38;5;28;01mFalse\u001b[39;00m)\n",
      "\u001b[31mNameError\u001b[39m: name 'quiz_df' is not defined"
     ]
    }
   ],
   "source": [
    "\n",
    "file = quiz_df.to_csv(\"artificial_intelligence.csv\", index=False)\n"
   ]
  },
  {
   "cell_type": "code",
   "execution_count": 50,
   "id": "f55b6f22",
   "metadata": {},
   "outputs": [
    {
     "name": "stdout",
     "output_type": "stream",
     "text": [
      "Raw quiz output: '```json\\n{\\n  \"quiz\": [\\n    {\\n      \"question\": \"What does artificial intelligence (AI) enable computers and machines to do?\",\\n      \"options\": [\\n        \"A) Simulate human emotions\",\\n        \"B) Simulate human learning and decision making\",\\n        \"C) Replace all human jobs\",\\n        \"D) Only perform mathematical calculations\"\\n      ],\\n      \"answer\": \"B\"\\n    },\\n    {\\n      \"question\": \"Which technology is primarily focused on creating original content like text and images?\",\\n      \"options\": [\\n        \"A) Machine Learning\",\\n        \"B) Deep Learning\",\\n        \"C) Generative AI\",\\n        \"D) Supervised Learning\"\\n      ],\\n      \"answer\": \"C\"\\n    },\\n    {\\n      \"question\": \"What is the simplest form of machine learning that uses labeled data sets?\",\\n      \"options\": [\\n        \"A) Unsupervised Learning\",\\n        \"B) Reinforcement Learning\",\\n        \"C) Supervised Learning\",\\n        \"D) Generative Learning\"\\n      ],\\n      \"answer\": \"C\"\\n    },\\n    {\\n      \"question\": \"What type of machine learning algorithm is modeled after the human brain?\",\\n      \"options\": [\\n        \"A) Decision Trees\",\\n        \"B) Neural Networks\",\\n        \"C) Random Forests\",\\n        \"D) Support Vector Machines\"\\n      ],\\n      \"answer\": \"B\"\\n    },\\n    {\\n      \"question\": \"What is the primary goal of machine learning algorithms in supervised learning?\",\\n      \"options\": [\\n        \"A) To replace human intelligence\",\\n        \"B) To learn the mapping between inputs and outputs\",\\n        \"C) To generate random data\",\\n        \"D) To analyze data without labels\"\\n      ],\\n      \"answer\": \"B\"\\n    }\\n  ],\\n  \"review\": \"\"\\n}\\n```'\n",
      "✅ Saved CSV with 5 rows\n"
     ]
    }
   ],
   "source": [
    "import json\n",
    "import pandas as pd\n",
    "import re\n",
    "\n",
    "# Check raw output\n",
    "print(\"Raw quiz output:\", repr(response.get(\"quiz\", \"\")))\n",
    "\n",
    "quiz_raw = response.get(\"quiz\", \"\")\n",
    "if not quiz_raw.strip():\n",
    "    raise ValueError(\"Quiz data is empty! Check your chain output.\")\n",
    "\n",
    "# Extract JSON object from the string (in case there's extra text)\n",
    "match = re.search(r\"\\{.*\\}\", quiz_raw, re.DOTALL)\n",
    "if not match:\n",
    "    raise ValueError(\"No valid JSON found in the quiz output!\")\n",
    "\n",
    "quiz_clean = match.group(0)\n",
    "\n",
    "# Parse JSON\n",
    "quiz_dict = json.loads(quiz_clean)\n",
    "\n",
    "# Extract quiz questions safely\n",
    "quiz_list = quiz_dict.get(\"quiz\", [])\n",
    "\n",
    "# Transform for CSV\n",
    "quiz_table = []\n",
    "for q in quiz_list:\n",
    "    mcq = q.get(\"question\", \"No question provided\")\n",
    "    options = q.get(\"options\", [])\n",
    "    options_str = \" | \".join(options) if options else \"No options\"\n",
    "    answer = q.get(\"answer\", \"No answer\")\n",
    "    \n",
    "    quiz_table.append({\n",
    "        \"MCQ\": mcq,\n",
    "        \"Choices\": options_str,\n",
    "        \"Correct\": answer\n",
    "    })\n",
    "\n",
    "# Convert to DataFrame and save CSV\n",
    "df = pd.DataFrame(quiz_table)\n",
    "df.to_csv(\"artificial_intelligence.csv\", index=False)\n",
    "print(f\"✅ Saved CSV with {len(df)} rows\")\n"
   ]
  },
  {
   "cell_type": "code",
   "execution_count": 51,
   "id": "4f1ee575",
   "metadata": {},
   "outputs": [
    {
     "data": {
      "text/plain": [
       "[{'MCQ': 'What does artificial intelligence (AI) enable computers and machines to do?',\n",
       "  'Choices': 'A) Simulate human emotions | B) Simulate human learning and decision making | C) Replace all human jobs | D) Only perform mathematical calculations',\n",
       "  'Correct': 'B'},\n",
       " {'MCQ': 'Which technology is primarily focused on creating original content like text and images?',\n",
       "  'Choices': 'A) Machine Learning | B) Deep Learning | C) Generative AI | D) Supervised Learning',\n",
       "  'Correct': 'C'},\n",
       " {'MCQ': 'What is the simplest form of machine learning that uses labeled data sets?',\n",
       "  'Choices': 'A) Unsupervised Learning | B) Reinforcement Learning | C) Supervised Learning | D) Generative Learning',\n",
       "  'Correct': 'C'},\n",
       " {'MCQ': 'What type of machine learning algorithm is modeled after the human brain?',\n",
       "  'Choices': 'A) Decision Trees | B) Neural Networks | C) Random Forests | D) Support Vector Machines',\n",
       "  'Correct': 'B'},\n",
       " {'MCQ': 'What is the primary goal of machine learning algorithms in supervised learning?',\n",
       "  'Choices': 'A) To replace human intelligence | B) To learn the mapping between inputs and outputs | C) To generate random data | D) To analyze data without labels',\n",
       "  'Correct': 'B'}]"
      ]
     },
     "execution_count": 51,
     "metadata": {},
     "output_type": "execute_result"
    }
   ],
   "source": [
    "\n",
    "quiz_table"
   ]
  },
  {
   "cell_type": "code",
   "execution_count": 52,
   "id": "400e79b7",
   "metadata": {},
   "outputs": [
    {
     "data": {
      "text/plain": [
       "{'quiz': [{'question': 'What does artificial intelligence (AI) enable computers and machines to do?',\n",
       "   'options': ['A) Simulate human emotions',\n",
       "    'B) Simulate human learning and decision making',\n",
       "    'C) Replace all human jobs',\n",
       "    'D) Only perform mathematical calculations'],\n",
       "   'answer': 'B'},\n",
       "  {'question': 'Which technology is primarily focused on creating original content like text and images?',\n",
       "   'options': ['A) Machine Learning',\n",
       "    'B) Deep Learning',\n",
       "    'C) Generative AI',\n",
       "    'D) Supervised Learning'],\n",
       "   'answer': 'C'},\n",
       "  {'question': 'What is the simplest form of machine learning that uses labeled data sets?',\n",
       "   'options': ['A) Unsupervised Learning',\n",
       "    'B) Reinforcement Learning',\n",
       "    'C) Supervised Learning',\n",
       "    'D) Generative Learning'],\n",
       "   'answer': 'C'},\n",
       "  {'question': 'What type of machine learning algorithm is modeled after the human brain?',\n",
       "   'options': ['A) Decision Trees',\n",
       "    'B) Neural Networks',\n",
       "    'C) Random Forests',\n",
       "    'D) Support Vector Machines'],\n",
       "   'answer': 'B'},\n",
       "  {'question': 'What is the primary goal of machine learning algorithms in supervised learning?',\n",
       "   'options': ['A) To replace human intelligence',\n",
       "    'B) To learn the mapping between inputs and outputs',\n",
       "    'C) To generate random data',\n",
       "    'D) To analyze data without labels'],\n",
       "   'answer': 'B'}],\n",
       " 'review': ''}"
      ]
     },
     "execution_count": 52,
     "metadata": {},
     "output_type": "execute_result"
    }
   ],
   "source": [
    "quiz_data\n"
   ]
  },
  {
   "cell_type": "code",
   "execution_count": null,
   "id": "7d396f7e",
   "metadata": {},
   "outputs": [],
   "source": []
  },
  {
   "cell_type": "code",
   "execution_count": null,
   "id": "bbf0a9af",
   "metadata": {},
   "outputs": [],
   "source": []
  }
 ],
 "metadata": {
  "kernelspec": {
   "display_name": "venv",
   "language": "python",
   "name": "python3"
  },
  "language_info": {
   "codemirror_mode": {
    "name": "ipython",
    "version": 3
   },
   "file_extension": ".py",
   "mimetype": "text/x-python",
   "name": "python",
   "nbconvert_exporter": "python",
   "pygments_lexer": "ipython3",
   "version": "3.13.5"
  }
 },
 "nbformat": 4,
 "nbformat_minor": 5
}
